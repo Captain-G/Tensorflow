{
  "nbformat": 4,
  "nbformat_minor": 0,
  "metadata": {
    "colab": {
      "provenance": []
    },
    "kernelspec": {
      "name": "python3",
      "display_name": "Python 3"
    },
    "language_info": {
      "name": "python"
    }
  },
  "cells": [
    {
      "cell_type": "markdown",
      "source": [
        "##TENSORFLOW TUTORIAL\n",
        "\n"
      ],
      "metadata": {
        "id": "V3BoBf0DhBHM"
      }
    },
    {
      "cell_type": "markdown",
      "source": [
        "TensorFlow is a software library or framework, designed by the Google team to implement machine learning and deep learning concepts in the easiest manner. It combines the computational algebra of optimization techniques for easy calculation of many mathematical expressions."
      ],
      "metadata": {
        "id": "_R4ybIkRg2o9"
      }
    },
    {
      "cell_type": "markdown",
      "source": [
        "##TENSOR DATA STRUCTURE"
      ],
      "metadata": {
        "id": "2TtXeM3zC_H8"
      }
    },
    {
      "cell_type": "markdown",
      "source": [
        "Tensors are used as the basic data structures in TensorFlow. Tensors are defined as multidimensional array or list.\n",
        "\n",
        "Tensors are identified by the following three parameters:\n",
        "\n",
        "\n",
        "-Rank: Unit of dimensionality described within tensor is called rank. It identifies the number of dimensions of the tensor. A rank of a tensor can be described as the order or n-dimensions of a tensor defined.\n",
        "\n",
        "-Shape: The number of rows and columns together define the shape of Tensor.\n",
        "\n",
        "-Type: Type describes the data type assigned to Tensor’s elements.\n",
        "\n"
      ],
      "metadata": {
        "id": "gtNsYUvjiK8s"
      }
    },
    {
      "cell_type": "markdown",
      "source": [
        "1D Tensor"
      ],
      "metadata": {
        "id": "PlM4EkBTiiww"
      }
    },
    {
      "cell_type": "code",
      "source": [
        "import numpy as np\n",
        "\n",
        "tensor_1d = np.array([1.3, 1, 4.0, 23.99])\n",
        "print(tensor_1d)"
      ],
      "metadata": {
        "colab": {
          "base_uri": "https://localhost:8080/",
          "height": 53
        },
        "id": "pVt3pyhXhakG",
        "outputId": "8a4f760b-93a2-4806-d5e3-25e99ef29960"
      },
      "execution_count": 42,
      "outputs": [
        {
          "output_type": "stream",
          "name": "stdout",
          "text": [
            "[ 1.3   1.    4.   23.99]\n"
          ]
        },
        {
          "output_type": "execute_result",
          "data": {
            "text/plain": [
              "'apple'"
            ],
            "application/vnd.google.colaboratory.intrinsic+json": {
              "type": "string"
            }
          },
          "metadata": {},
          "execution_count": 42
        }
      ]
    },
    {
      "cell_type": "markdown",
      "source": [
        "The indexing of elements is same as Python lists. The first element starts with index of 0; to print the values through index, all you need to do is mention the index number"
      ],
      "metadata": {
        "id": "GrP6OCPiipqV"
      }
    },
    {
      "cell_type": "code",
      "source": [
        "print(tensor_1d[0])\n",
        "print(tensor_1d[-1])"
      ],
      "metadata": {
        "colab": {
          "base_uri": "https://localhost:8080/"
        },
        "id": "SKj-Oc6DiIdz",
        "outputId": "eb357853-5afd-4950-c655-aba33216a25f"
      },
      "execution_count": 9,
      "outputs": [
        {
          "output_type": "stream",
          "name": "stdout",
          "text": [
            "1.3\n",
            "23.99\n"
          ]
        }
      ]
    },
    {
      "cell_type": "markdown",
      "source": [
        "2D Vector"
      ],
      "metadata": {
        "id": "wrplJroRjLmI"
      }
    },
    {
      "cell_type": "code",
      "source": [
        "tensor_2d = np.array([(1,2,3,4),\n",
        "                      (4,5,6,7),\n",
        "                      (8,9,10,11),\n",
        "                      (12,13,14,15)])\n",
        "print(tensor_2d)"
      ],
      "metadata": {
        "colab": {
          "base_uri": "https://localhost:8080/"
        },
        "id": "gHzRujO9iyj2",
        "outputId": "529a569e-ffc2-49d3-e071-dad66744d45f"
      },
      "execution_count": 43,
      "outputs": [
        {
          "output_type": "stream",
          "name": "stdout",
          "text": [
            "[[ 1  2  3  4]\n",
            " [ 4  5  6  7]\n",
            " [ 8  9 10 11]\n",
            " [12 13 14 15]]\n"
          ]
        }
      ]
    },
    {
      "cell_type": "markdown",
      "source": [
        "The specific elements of two dimensional tensors can be tracked with the help of row number and column number specified as index numbers."
      ],
      "metadata": {
        "id": "Ju63QACPj5te"
      }
    },
    {
      "cell_type": "code",
      "source": [
        "print(tensor_2d[3][2])"
      ],
      "metadata": {
        "colab": {
          "base_uri": "https://localhost:8080/"
        },
        "id": "Z3oLlMUXjqYr",
        "outputId": "b237c60f-f1e5-487f-87e0-892f31efa5c5"
      },
      "execution_count": 14,
      "outputs": [
        {
          "output_type": "stream",
          "name": "stdout",
          "text": [
            "14\n"
          ]
        }
      ]
    },
    {
      "cell_type": "code",
      "source": [
        "import tensorflow as tf\n",
        "\n",
        "# Define matrices\n",
        "matrix1 = np.array([(2, 2, 2), (2, 2, 2), (2, 2, 2)], dtype='int32')\n",
        "matrix2 = np.array([(1, 1, 1), (1, 1, 1), (1, 1, 1)], dtype='int32')\n",
        "\n",
        "print(f\"Matrix 1 : \\n{matrix1}\")\n",
        "print(f\"Matrix 2 : \\n{matrix2}\")\n",
        "\n",
        "# Convert matrices to TensorFlow constants\n",
        "matrix1 = tf.constant(matrix1)\n",
        "matrix2 = tf.constant(matrix2)\n",
        "\n",
        "# Matrix multiplication and addition\n",
        "matrix_product = tf.matmul(matrix1, matrix2)\n",
        "matrix_sum = tf.add(matrix1, matrix2)\n",
        "\n",
        "# Define another matrix\n",
        "matrix_3 = np.array([(2, 7, 2), (1, 4, 2), (9, 0, 2)], dtype='float32')\n",
        "print(matrix_3)\n",
        "\n",
        "# Calculate determinant using tf.linalg.det\n",
        "matrix_det = tf.linalg.det(matrix_3)\n",
        "\n",
        "# Directly print the results (no need for sessions in TensorFlow 2.x)\n",
        "print(f\"Matrix Product : {matrix_product.numpy()}\")\n",
        "print(f\"Matrix Sum : {matrix_sum.numpy()}\")\n",
        "print(f\"Matrix Determinant : {matrix_det.numpy()}\")"
      ],
      "metadata": {
        "colab": {
          "base_uri": "https://localhost:8080/"
        },
        "id": "8j7Krkxyj-x5",
        "outputId": "c344a47c-15cc-481f-f43c-ba4195169ec4"
      },
      "execution_count": 21,
      "outputs": [
        {
          "output_type": "stream",
          "name": "stdout",
          "text": [
            "Matrix 1 : \n",
            "[[2 2 2]\n",
            " [2 2 2]\n",
            " [2 2 2]]\n",
            "Matrix 2 : \n",
            "[[1 1 1]\n",
            " [1 1 1]\n",
            " [1 1 1]]\n",
            "[[2. 7. 2.]\n",
            " [1. 4. 2.]\n",
            " [9. 0. 2.]]\n",
            "Matrix Product : [[6 6 6]\n",
            " [6 6 6]\n",
            " [6 6 6]]\n",
            "Matrix Sum : [[3 3 3]\n",
            " [3 3 3]\n",
            " [3 3 3]]\n",
            "Matrix Determinant : 55.99999237060547\n"
          ]
        }
      ]
    },
    {
      "cell_type": "markdown",
      "source": [
        "##Convolutional Neural Networks (CNNs)"
      ],
      "metadata": {
        "id": "ntw1piyAnwss"
      }
    },
    {
      "cell_type": "markdown",
      "source": [
        "Convolutional Neural networks are designed to process data through multiple layers of arrays. This type of neural networks is used in applications like image recognition or face recognition. The primary difference between CNN and any other ordinary neural network is that CNN takes input as a two-dimensional array and operates directly on the images rather than focusing on feature extraction which other neural networks focus on.\n",
        "\n",
        "The dominant approach of CNN includes solutions for problems of recognition. Top companies like Google and Facebook have invested in research and development towards recognition projects to get activities done with greater speed."
      ],
      "metadata": {
        "id": "BMPnKw55oFyP"
      }
    },
    {
      "cell_type": "markdown",
      "source": [
        "A convolutional neural network uses three basic ideas:\n",
        "\n",
        "- Local receptive fields\n",
        "- Convolution(filtering)\n",
        "- Pooling(compressing)\n",
        "\n",
        "CNN utilizes spatial correlations that exist within the input data. Each concurrent layer of a neural network connects some input neurons. This specific region is called local receptive field. Local receptive field focusses on the hidden neurons. The hidden neurons process the input data inside the mentioned field not realizing the changes outside the specific boundary."
      ],
      "metadata": {
        "id": "bhsrmFG2oU5M"
      }
    },
    {
      "cell_type": "markdown",
      "source": [
        "**Diagram representation of generating local respective fields"
      ],
      "metadata": {
        "id": "jBBgZ34CpGvo"
      }
    },
    {
      "cell_type": "markdown",
      "source": [
        "If we observe the above representation, each connection learns a weight of the hidden neuron with an associated connection with movement from one layer to another. Here, individual neurons perform a shift from time to time. This process is called “convolution”.\n",
        "\n",
        "CNN or convolutional neural networks use pooling layers, which are the layers, positioned immediately after CNN declaration. It takes the input from the user as a feature map that comes out of convolutional networks and prepares a condensed feature map. Pooling layers helps in creating layers with neurons of previous layers.\n",
        "\n"
      ],
      "metadata": {
        "id": "RCyy8cnjpfA8"
      }
    },
    {
      "cell_type": "markdown",
      "source": [
        "## Tensorflow implementation of CNN"
      ],
      "metadata": {
        "id": "C864EezRpmJ8"
      }
    },
    {
      "cell_type": "code",
      "source": [
        "mnist = tf.keras.datasets.mnist\n",
        "\n",
        "(x_train, y_train), (x_test, y_test) = mnist.load_data()\n",
        "x_train, x_test = x_train / 255.0, x_test / 255.0"
      ],
      "metadata": {
        "id": "6WU9XRyAkXuS"
      },
      "execution_count": 31,
      "outputs": []
    },
    {
      "cell_type": "code",
      "source": [
        "import matplotlib.pyplot as plt\n",
        "\n",
        "def display_images(images, labels, num_images):\n",
        "    plt.figure(figsize=(10, 10))\n",
        "    for i in range(num_images):\n",
        "        plt.subplot(5, 5, i + 1)\n",
        "        plt.xticks([])\n",
        "        plt.yticks([])\n",
        "        plt.grid(False)\n",
        "        plt.imshow(images[i], cmap=plt.cm.binary)\n",
        "        plt.xlabel(f\"Label: {labels[i]}\")\n",
        "    plt.show()\n",
        "\n",
        "# Display the first 25 images from the training set\n",
        "display_images(x_train, y_train, num_images=25)"
      ],
      "metadata": {
        "colab": {
          "base_uri": "https://localhost:8080/",
          "height": 826
        },
        "id": "0o0B8VcJ4nqB",
        "outputId": "f88eb9c8-74bf-4e29-e93e-ab413a03bf34"
      },
      "execution_count": 50,
      "outputs": [
        {
          "output_type": "display_data",
          "data": {
            "text/plain": [
              "<Figure size 1000x1000 with 25 Axes>"
            ],
            "image/png": "[encoded data removed]"
          },
          "metadata": {}
        }
      ]
    },
    {
      "cell_type": "markdown",
      "source": [
        "Sequential is useful for stacking layers where each layer has one input tensor and one output tensor. Layers are functions with a known mathematical structure that can be reused and have trainable variables. Most TensorFlow models are composed of layers. This model uses the Flatten, Dense, and Dropout layers.\n",
        "\n",
        "-Flatten - Converts the 2D image data into a 1D array.\n",
        "\n",
        "-Dense - Performs a linear transformation on the input data.\n",
        "\n",
        "-Dropout - Reduces overfitting by randomly setting a fraction of input units to zero during training."
      ],
      "metadata": {
        "id": "fzMEXEAAqVDX"
      }
    },
    {
      "cell_type": "code",
      "source": [
        "model = tf.keras.models.Sequential([\n",
        "  tf.keras.layers.Flatten(input_shape=(28, 28)),\n",
        "  tf.keras.layers.Dense(128, activation='relu'),\n",
        "  tf.keras.layers.Dropout(0.2),\n",
        "  tf.keras.layers.Dense(10)\n",
        "])"
      ],
      "metadata": {
        "colab": {
          "base_uri": "https://localhost:8080/"
        },
        "id": "0Ko_RC-moD48",
        "outputId": "217e3903-88b1-4592-d6a5-3878325d2a48"
      },
      "execution_count": 32,
      "outputs": [
        {
          "output_type": "stream",
          "name": "stderr",
          "text": [
            "/usr/local/lib/python3.10/dist-packages/keras/src/layers/reshaping/flatten.py:37: UserWarning: Do not pass an `input_shape`/`input_dim` argument to a layer. When using Sequential models, prefer using an `Input(shape)` object as the first layer in the model instead.\n",
            "  super().__init__(**kwargs)\n"
          ]
        }
      ]
    },
    {
      "cell_type": "code",
      "source": [
        "predictions = model(x_train[:1]).numpy()\n",
        "predictions"
      ],
      "metadata": {
        "colab": {
          "base_uri": "https://localhost:8080/"
        },
        "id": "KFneJ8tQqZMG",
        "outputId": "84c3b1f2-daeb-4d61-b88c-1d71bab3d776"
      },
      "execution_count": 52,
      "outputs": [
        {
          "output_type": "execute_result",
          "data": {
            "text/plain": [
              "array([[-12.941931, -10.878621,  -4.52552 ,   9.729022, -23.006319,\n",
              "         11.8932  , -17.004425,  -5.815406, -10.042545,  -7.727042]],\n",
              "      dtype=float32)"
            ]
          },
          "metadata": {},
          "execution_count": 52
        }
      ]
    },
    {
      "cell_type": "markdown",
      "source": [
        "The tf.nn.softmax function converts these logits to probabilities for each class:\n",
        "\n",
        "\n"
      ],
      "metadata": {
        "id": "Cnb6JyXCrsBp"
      }
    },
    {
      "cell_type": "code",
      "source": [
        "tf.nn.softmax(predictions).numpy()"
      ],
      "metadata": {
        "colab": {
          "base_uri": "https://localhost:8080/"
        },
        "id": "U1rUwRrcqdpU",
        "outputId": "0264bb56-1c24-4aa5-8a35-4744878fafd9"
      },
      "execution_count": 34,
      "outputs": [
        {
          "output_type": "execute_result",
          "data": {
            "text/plain": [
              "array([[0.05760592, 0.07101286, 0.15750054, 0.12504557, 0.09774821,\n",
              "        0.12847786, 0.12086558, 0.08037403, 0.06242792, 0.09894153]],\n",
              "      dtype=float32)"
            ]
          },
          "metadata": {},
          "execution_count": 34
        }
      ]
    },
    {
      "cell_type": "markdown",
      "source": [
        "Define a loss function for training using losses.SparseCategoricalCrossentropy:"
      ],
      "metadata": {
        "id": "ZLWy5_KCuY6Q"
      }
    },
    {
      "cell_type": "code",
      "source": [
        "loss_fn = tf.keras.losses.SparseCategoricalCrossentropy(from_logits=True)"
      ],
      "metadata": {
        "id": "lh2PycGPrw0C"
      },
      "execution_count": 35,
      "outputs": []
    },
    {
      "cell_type": "markdown",
      "source": [
        "The loss function takes a vector of ground truth values and a vector of logits and returns a scalar loss for each example. This loss is equal to the negative log probability of the true class: The loss is zero if the model is sure of the correct class."
      ],
      "metadata": {
        "id": "9PUxkToSukSB"
      }
    },
    {
      "cell_type": "code",
      "source": [
        "loss_fn(y_train[:1], predictions).numpy()"
      ],
      "metadata": {
        "colab": {
          "base_uri": "https://localhost:8080/"
        },
        "id": "zMRT7_ASubcF",
        "outputId": "d03dfde8-0e57-4648-a7d3-d8e144247eba"
      },
      "execution_count": 36,
      "outputs": [
        {
          "output_type": "execute_result",
          "data": {
            "text/plain": [
              "2.0519989"
            ]
          },
          "metadata": {},
          "execution_count": 36
        }
      ]
    },
    {
      "cell_type": "markdown",
      "source": [
        "Before you start training, configure and compile the model using Keras Model.compile. Set the optimizer class to adam, set the loss to the loss_fn function you defined earlier, and specify a metric to be evaluated for the model by setting the metrics parameter to accuracy."
      ],
      "metadata": {
        "id": "ZPEJAvuGuyMt"
      }
    },
    {
      "cell_type": "code",
      "source": [
        "model.compile(optimizer='adam',\n",
        "              loss=loss_fn,\n",
        "              metrics=['accuracy'])"
      ],
      "metadata": {
        "id": "siVDecRturVB"
      },
      "execution_count": 37,
      "outputs": []
    },
    {
      "cell_type": "markdown",
      "source": [
        "Train and evaluate your model"
      ],
      "metadata": {
        "id": "StAKgUZKvnSt"
      }
    },
    {
      "cell_type": "code",
      "source": [
        "model.fit(x_train, y_train, epochs=5)"
      ],
      "metadata": {
        "colab": {
          "base_uri": "https://localhost:8080/"
        },
        "id": "OW1UcyuwvknU",
        "outputId": "27ae3a14-4793-4f9e-8149-765425b5f329"
      },
      "execution_count": 38,
      "outputs": [
        {
          "output_type": "stream",
          "name": "stdout",
          "text": [
            "Epoch 1/5\n",
            "\u001b[1m1875/1875\u001b[0m \u001b[32m━━━━━━━━━━━━━━━━━━━━\u001b[0m\u001b[37m\u001b[0m \u001b[1m8s\u001b[0m 3ms/step - accuracy: 0.8526 - loss: 0.5022\n",
            "Epoch 2/5\n",
            "\u001b[1m1875/1875\u001b[0m \u001b[32m━━━━━━━━━━━━━━━━━━━━\u001b[0m\u001b[37m\u001b[0m \u001b[1m7s\u001b[0m 4ms/step - accuracy: 0.9537 - loss: 0.1563\n",
            "Epoch 3/5\n",
            "\u001b[1m1875/1875\u001b[0m \u001b[32m━━━━━━━━━━━━━━━━━━━━\u001b[0m\u001b[37m\u001b[0m \u001b[1m11s\u001b[0m 4ms/step - accuracy: 0.9686 - loss: 0.1045\n",
            "Epoch 4/5\n",
            "\u001b[1m1875/1875\u001b[0m \u001b[32m━━━━━━━━━━━━━━━━━━━━\u001b[0m\u001b[37m\u001b[0m \u001b[1m6s\u001b[0m 3ms/step - accuracy: 0.9745 - loss: 0.0855\n",
            "Epoch 5/5\n",
            "\u001b[1m1875/1875\u001b[0m \u001b[32m━━━━━━━━━━━━━━━━━━━━\u001b[0m\u001b[37m\u001b[0m \u001b[1m8s\u001b[0m 4ms/step - accuracy: 0.9759 - loss: 0.0760\n"
          ]
        },
        {
          "output_type": "execute_result",
          "data": {
            "text/plain": [
              "<keras.src.callbacks.history.History at 0x7f15a0488580>"
            ]
          },
          "metadata": {},
          "execution_count": 38
        }
      ]
    },
    {
      "cell_type": "markdown",
      "source": [
        "The Model.evaluate method checks the model's performance, usually on a validation set or test set."
      ],
      "metadata": {
        "id": "lAFPtrUJv7qT"
      }
    },
    {
      "cell_type": "code",
      "source": [
        "model.evaluate(x_test,  y_test, verbose=2)"
      ],
      "metadata": {
        "colab": {
          "base_uri": "https://localhost:8080/"
        },
        "id": "p3IyxJjWvt6G",
        "outputId": "f15c6f6d-8c46-480a-a535-a3f0a9e73215"
      },
      "execution_count": 39,
      "outputs": [
        {
          "output_type": "stream",
          "name": "stdout",
          "text": [
            "313/313 - 1s - 4ms/step - accuracy: 0.9775 - loss: 0.0766\n"
          ]
        },
        {
          "output_type": "execute_result",
          "data": {
            "text/plain": [
              "[0.07662606239318848, 0.9775000214576721]"
            ]
          },
          "metadata": {},
          "execution_count": 39
        }
      ]
    },
    {
      "cell_type": "code",
      "source": [],
      "metadata": {
        "id": "iHxS9AlOv-mZ"
      },
      "execution_count": null,
      "outputs": []
    }
  ]
}